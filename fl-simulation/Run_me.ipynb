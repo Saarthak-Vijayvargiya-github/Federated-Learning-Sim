{
 "cells": [
  {
   "cell_type": "markdown",
   "id": "57cb2f72-5988-411a-916d-2a51a8b7e0ed",
   "metadata": {},
   "source": [
    "## Please Go through this file to run the project"
   ]
  },
  {
   "cell_type": "markdown",
   "id": "b30115cd-2a31-40b5-8a70-eeacb258797d",
   "metadata": {},
   "source": [
    "If you want to create a conda environment, you may run this command:"
   ]
  },
  {
   "cell_type": "code",
   "execution_count": null,
   "id": "883bf933-d396-4c37-820a-8f6d451628a6",
   "metadata": {},
   "outputs": [],
   "source": [
    "# !conda create --name FederatedLearning python=3.11 -y\n",
    "# !conda activate FederatedLearning"
   ]
  },
  {
   "cell_type": "markdown",
   "id": "bd13b14f-dee3-4265-9648-fcff5e388174",
   "metadata": {},
   "source": [
    "To Install the required libraries for this project, run the following command:\n",
    "\n",
    "Required Libraries:\n",
    "- Numpy: 1.26.4\n",
    "- flower[simulation] >= 1.17.0\n",
    "- flower-datasets[vision] >= 0.5.0\n",
    "- torch: 2.5.1\n",
    "- torchvision: 0.20.1"
   ]
  },
  {
   "cell_type": "code",
   "execution_count": null,
   "id": "f8f03834-7db5-4bb3-a8a7-39459f47574e",
   "metadata": {},
   "outputs": [],
   "source": [
    "# !pip install -e ."
   ]
  },
  {
   "cell_type": "markdown",
   "id": "f52401e8-8eb7-4783-8ca9-f70f66c2f91e",
   "metadata": {},
   "source": [
    "After installation, just run this command and wait for 3-4 mins to see the output...\n",
    "\n",
    "OR if you want to see the output in real time you can run the command in the terminal.\n",
    "\n",
    "Path: Basically the location where this jupyter notebook is stored.\n",
    "```bash\n",
    "<Project Location>\\Assign2\\fl-simulation> flwr run .\n",
    "```\n",
    "\n",
    "> \\[!NOTE\\]\n",
    "> Please ensure that you are connected to internet, as the dataset is fetched online during the runtime!"
   ]
  },
  {
   "cell_type": "code",
   "execution_count": 1,
   "id": "bf15c334-0b2a-4047-8924-8fa6b866796d",
   "metadata": {
    "scrolled": true
   },
   "outputs": [
    {
     "name": "stdout",
     "output_type": "stream",
     "text": [
      "Loading project configuration... \n",
      "Success\n",
      "Initial Training Loss: 2.2108678961622306\n",
      "Initial Val Accuracy:  0.5947136563876652\n"
     ]
    },
    {
     "name": "stderr",
     "output_type": "stream",
     "text": [
      "\u001b[92mINFO \u001b[0m:      Starting Flower ServerApp, config: num_rounds=3, no round_timeout\n",
      "\u001b[92mINFO \u001b[0m:      \n",
      "\u001b[92mINFO \u001b[0m:      [INIT]\n",
      "\u001b[92mINFO \u001b[0m:      Using initial global parameters provided by strategy\n",
      "\u001b[92mINFO \u001b[0m:      Starting evaluation of initial global parameters\n",
      "\u001b[92mINFO \u001b[0m:      initial parameters (loss, other metrics): 0.9167641252279282, {'cen_accuracy': 0.5947136563876652}\n",
      "\u001b[92mINFO \u001b[0m:      \n",
      "\u001b[92mINFO \u001b[0m:      [ROUND 1]\n",
      "\u001b[92mINFO \u001b[0m:      configure_fit: strategy sampled 3 clients (out of 10)\n",
      "\u001b[92mINFO \u001b[0m:      aggregate_fit: received 3 results and 0 failures\n",
      "\u001b[93mWARNING \u001b[0m:   No fit_metrics_aggregation_fn provided\n",
      "\u001b[92mINFO \u001b[0m:      fit progress: (1, 0.6096375659108162, {'cen_accuracy': 0.748898678414097}, 65.50263759994414)\n",
      "\u001b[92mINFO \u001b[0m:      configure_evaluate: strategy sampled 10 clients (out of 10)\n",
      "\u001b[92mINFO \u001b[0m:      aggregate_evaluate: received 10 results and 0 failures\n",
      "\u001b[92mINFO \u001b[0m:      \n",
      "\u001b[92mINFO \u001b[0m:      [ROUND 2]\n",
      "\u001b[92mINFO \u001b[0m:      configure_fit: strategy sampled 5 clients (out of 10)\n",
      "\u001b[92mINFO \u001b[0m:      aggregate_fit: received 5 results and 0 failures\n",
      "\u001b[92mINFO \u001b[0m:      fit progress: (2, 0.6448732875287533, {'cen_accuracy': 0.7709251101321586}, 134.6506922999397)\n",
      "\u001b[92mINFO \u001b[0m:      configure_evaluate: strategy sampled 10 clients (out of 10)\n",
      "\u001b[92mINFO \u001b[0m:      aggregate_evaluate: received 10 results and 0 failures\n",
      "\u001b[92mINFO \u001b[0m:      \n",
      "\u001b[92mINFO \u001b[0m:      [ROUND 3]\n",
      "\u001b[92mINFO \u001b[0m:      configure_fit: strategy sampled 6 clients (out of 10)\n",
      "\u001b[92mINFO \u001b[0m:      aggregate_fit: received 6 results and 0 failures\n",
      "\u001b[92mINFO \u001b[0m:      fit progress: (3, 0.4479583837091923, {'cen_accuracy': 0.8546255506607929}, 153.7883082999615)\n",
      "\u001b[92mINFO \u001b[0m:      configure_evaluate: strategy sampled 10 clients (out of 10)\n",
      "\u001b[92mINFO \u001b[0m:      aggregate_evaluate: received 10 results and 0 failures\n",
      "\u001b[92mINFO \u001b[0m:      \n",
      "\u001b[92mINFO \u001b[0m:      [SUMMARY]\n",
      "\u001b[92mINFO \u001b[0m:      Run finished 3 round(s) in 158.96s\n",
      "\u001b[92mINFO \u001b[0m:      \tHistory (loss, distributed):\n",
      "\u001b[92mINFO \u001b[0m:      \t\tround 1: 0.6913619534852986\n",
      "\u001b[92mINFO \u001b[0m:      \t\tround 2: 0.6650324912472353\n",
      "\u001b[92mINFO \u001b[0m:      \t\tround 3: 0.48641275760792124\n",
      "\u001b[92mINFO \u001b[0m:      \tHistory (loss, centralized):\n",
      "\u001b[92mINFO \u001b[0m:      \t\tround 0: 0.9167641252279282\n",
      "\u001b[92mINFO \u001b[0m:      \t\tround 1: 0.6096375659108162\n",
      "\u001b[92mINFO \u001b[0m:      \t\tround 2: 0.6448732875287533\n",
      "\u001b[92mINFO \u001b[0m:      \t\tround 3: 0.4479583837091923\n",
      "\u001b[92mINFO \u001b[0m:      \tHistory (metrics, distributed, evaluate):\n",
      "\u001b[92mINFO \u001b[0m:      \t{'accuracy': [(1, 0.7196230225513295),\n",
      "\u001b[92mINFO \u001b[0m:      \t              (2, 0.7485695052170986),\n",
      "\u001b[92mINFO \u001b[0m:      \t              (3, 0.8138673847189498)]}\n",
      "\u001b[92mINFO \u001b[0m:      \tHistory (metrics, centralized):\n",
      "\u001b[92mINFO \u001b[0m:      \t{'cen_accuracy': [(0, 0.5947136563876652),\n",
      "\u001b[92mINFO \u001b[0m:      \t                  (1, 0.748898678414097),\n",
      "\u001b[92mINFO \u001b[0m:      \t                  (2, 0.7709251101321586),\n",
      "\u001b[92mINFO \u001b[0m:      \t                  (3, 0.8546255506607929)]}\n",
      "\u001b[92mINFO \u001b[0m:      \n"
     ]
    }
   ],
   "source": [
    "!flwr run ."
   ]
  },
  {
   "cell_type": "markdown",
   "id": "f13d1fb4-f0cf-4b18-85e7-9ecc997e1092",
   "metadata": {},
   "source": [
    "## NOTE:\n",
    "Please ensure that you are connected to internet as the dataset is fetched online in real time."
   ]
  }
 ],
 "metadata": {
  "kernelspec": {
   "display_name": "Python 3 (ipykernel)",
   "language": "python",
   "name": "python3"
  },
  "language_info": {
   "codemirror_mode": {
    "name": "ipython",
    "version": 3
   },
   "file_extension": ".py",
   "mimetype": "text/x-python",
   "name": "python",
   "nbconvert_exporter": "python",
   "pygments_lexer": "ipython3",
   "version": "3.11.12"
  }
 },
 "nbformat": 4,
 "nbformat_minor": 5
}
